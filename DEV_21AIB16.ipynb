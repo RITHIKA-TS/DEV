{
  "nbformat": 4,
  "nbformat_minor": 0,
  "metadata": {
    "colab": {
      "provenance": [],
      "collapsed_sections": []
    },
    "kernelspec": {
      "name": "python3",
      "display_name": "Python 3"
    },
    "language_info": {
      "name": "python"
    }
  },
  "cells": [
    {
      "cell_type": "code",
      "source": [],
      "metadata": {
        "id": "a8g39keqanZi"
      },
      "execution_count": null,
      "outputs": []
    },
    {
      "cell_type": "code",
      "source": [
        "import numpy as np\n",
        "import pandas as pd\n",
        "import matplotlib.pyplot as plt\n",
        "import tabulate as tabulate\n",
        "df=pd.read_csv(\"International_Report_Passengers.csv\")\n",
        "X=df.Year\n",
        "Y=df.Charter\n"
      ],
      "metadata": {
        "id": "6TMUI_y-bIbc"
      },
      "execution_count": null,
      "outputs": []
    },
    {
      "cell_type": "code",
      "source": [
        "df.head(500)"
      ],
      "metadata": {
        "colab": {
          "base_uri": "https://localhost:8080/",
          "height": 488
        },
        "id": "CE-QszivbrqZ",
        "outputId": "61594ac8-d4e7-46b0-a8f9-58ca45ba3cb3"
      },
      "execution_count": null,
      "outputs": [
        {
          "output_type": "execute_result",
          "data": {
            "text/plain": [
              "       data_dte  Year  Month  usg_apt_id usg_apt  usg_wac  fg_apt_id fg_apt  \\\n",
              "0    05/01/2014  2014      5       14492     RDU       36      11032    CUN   \n",
              "1    06/01/2007  2007      6       13204     MCO       33      16085    YHZ   \n",
              "2    12/01/2005  2005     12       11433     DTW       43      10411    AUA   \n",
              "3    04/01/2003  2003      4       13487     MSP       63      16304    ZIH   \n",
              "4    12/01/2005  2005     12       12016     GUM        5      11138    CRK   \n",
              "..          ...   ...    ...         ...     ...      ...        ...    ...   \n",
              "495  02/01/2003  2003      2       14027     PBI       33      13165    MAN   \n",
              "496  04/01/2004  2004      4       13342     MKE       45      14312    PVR   \n",
              "497  04/01/2009  2009      4       10721     BOS       13      16217    YUL   \n",
              "498  05/01/2010  2010      5       13303     MIA       33      12180    HOG   \n",
              "499  12/01/2005  2005     12       15016     STL       64      14312    PVR   \n",
              "\n",
              "     fg_wac  airlineid carrier  carriergroup        type  Scheduled  Charter  \\\n",
              "0       148      19534      AM             0  Passengers          0      315   \n",
              "1       951      20364      C6             0  Passengers          0      683   \n",
              "2       277      20344      RD             1  Passengers          0     1010   \n",
              "3       148      20204      MG             1  Passengers          0      508   \n",
              "4       766      20312      TZ             1  Passengers          0       76   \n",
              "..      ...        ...     ...           ...         ...        ...      ...   \n",
              "495     493      19869      BY             0  Passengers          0     1170   \n",
              "496     148      20423      U5             1  Passengers          0      397   \n",
              "497     941      19531      AC             0  Passengers          0      157   \n",
              "498     219      20421     SLQ             1  Passengers          0      343   \n",
              "499     148      20204      MG             1  Passengers          0     1852   \n",
              "\n",
              "     Total  \n",
              "0      315  \n",
              "1      683  \n",
              "2     1010  \n",
              "3      508  \n",
              "4       76  \n",
              "..     ...  \n",
              "495   1170  \n",
              "496    397  \n",
              "497    157  \n",
              "498    343  \n",
              "499   1852  \n",
              "\n",
              "[500 rows x 16 columns]"
            ],
            "text/html": [
              "\n",
              "  <div id=\"df-2a6d6a48-32b4-476a-8b9b-024e333b4660\">\n",
              "    <div class=\"colab-df-container\">\n",
              "      <div>\n",
              "<style scoped>\n",
              "    .dataframe tbody tr th:only-of-type {\n",
              "        vertical-align: middle;\n",
              "    }\n",
              "\n",
              "    .dataframe tbody tr th {\n",
              "        vertical-align: top;\n",
              "    }\n",
              "\n",
              "    .dataframe thead th {\n",
              "        text-align: right;\n",
              "    }\n",
              "</style>\n",
              "<table border=\"1\" class=\"dataframe\">\n",
              "  <thead>\n",
              "    <tr style=\"text-align: right;\">\n",
              "      <th></th>\n",
              "      <th>data_dte</th>\n",
              "      <th>Year</th>\n",
              "      <th>Month</th>\n",
              "      <th>usg_apt_id</th>\n",
              "      <th>usg_apt</th>\n",
              "      <th>usg_wac</th>\n",
              "      <th>fg_apt_id</th>\n",
              "      <th>fg_apt</th>\n",
              "      <th>fg_wac</th>\n",
              "      <th>airlineid</th>\n",
              "      <th>carrier</th>\n",
              "      <th>carriergroup</th>\n",
              "      <th>type</th>\n",
              "      <th>Scheduled</th>\n",
              "      <th>Charter</th>\n",
              "      <th>Total</th>\n",
              "    </tr>\n",
              "  </thead>\n",
              "  <tbody>\n",
              "    <tr>\n",
              "      <th>0</th>\n",
              "      <td>05/01/2014</td>\n",
              "      <td>2014</td>\n",
              "      <td>5</td>\n",
              "      <td>14492</td>\n",
              "      <td>RDU</td>\n",
              "      <td>36</td>\n",
              "      <td>11032</td>\n",
              "      <td>CUN</td>\n",
              "      <td>148</td>\n",
              "      <td>19534</td>\n",
              "      <td>AM</td>\n",
              "      <td>0</td>\n",
              "      <td>Passengers</td>\n",
              "      <td>0</td>\n",
              "      <td>315</td>\n",
              "      <td>315</td>\n",
              "    </tr>\n",
              "    <tr>\n",
              "      <th>1</th>\n",
              "      <td>06/01/2007</td>\n",
              "      <td>2007</td>\n",
              "      <td>6</td>\n",
              "      <td>13204</td>\n",
              "      <td>MCO</td>\n",
              "      <td>33</td>\n",
              "      <td>16085</td>\n",
              "      <td>YHZ</td>\n",
              "      <td>951</td>\n",
              "      <td>20364</td>\n",
              "      <td>C6</td>\n",
              "      <td>0</td>\n",
              "      <td>Passengers</td>\n",
              "      <td>0</td>\n",
              "      <td>683</td>\n",
              "      <td>683</td>\n",
              "    </tr>\n",
              "    <tr>\n",
              "      <th>2</th>\n",
              "      <td>12/01/2005</td>\n",
              "      <td>2005</td>\n",
              "      <td>12</td>\n",
              "      <td>11433</td>\n",
              "      <td>DTW</td>\n",
              "      <td>43</td>\n",
              "      <td>10411</td>\n",
              "      <td>AUA</td>\n",
              "      <td>277</td>\n",
              "      <td>20344</td>\n",
              "      <td>RD</td>\n",
              "      <td>1</td>\n",
              "      <td>Passengers</td>\n",
              "      <td>0</td>\n",
              "      <td>1010</td>\n",
              "      <td>1010</td>\n",
              "    </tr>\n",
              "    <tr>\n",
              "      <th>3</th>\n",
              "      <td>04/01/2003</td>\n",
              "      <td>2003</td>\n",
              "      <td>4</td>\n",
              "      <td>13487</td>\n",
              "      <td>MSP</td>\n",
              "      <td>63</td>\n",
              "      <td>16304</td>\n",
              "      <td>ZIH</td>\n",
              "      <td>148</td>\n",
              "      <td>20204</td>\n",
              "      <td>MG</td>\n",
              "      <td>1</td>\n",
              "      <td>Passengers</td>\n",
              "      <td>0</td>\n",
              "      <td>508</td>\n",
              "      <td>508</td>\n",
              "    </tr>\n",
              "    <tr>\n",
              "      <th>4</th>\n",
              "      <td>12/01/2005</td>\n",
              "      <td>2005</td>\n",
              "      <td>12</td>\n",
              "      <td>12016</td>\n",
              "      <td>GUM</td>\n",
              "      <td>5</td>\n",
              "      <td>11138</td>\n",
              "      <td>CRK</td>\n",
              "      <td>766</td>\n",
              "      <td>20312</td>\n",
              "      <td>TZ</td>\n",
              "      <td>1</td>\n",
              "      <td>Passengers</td>\n",
              "      <td>0</td>\n",
              "      <td>76</td>\n",
              "      <td>76</td>\n",
              "    </tr>\n",
              "    <tr>\n",
              "      <th>...</th>\n",
              "      <td>...</td>\n",
              "      <td>...</td>\n",
              "      <td>...</td>\n",
              "      <td>...</td>\n",
              "      <td>...</td>\n",
              "      <td>...</td>\n",
              "      <td>...</td>\n",
              "      <td>...</td>\n",
              "      <td>...</td>\n",
              "      <td>...</td>\n",
              "      <td>...</td>\n",
              "      <td>...</td>\n",
              "      <td>...</td>\n",
              "      <td>...</td>\n",
              "      <td>...</td>\n",
              "      <td>...</td>\n",
              "    </tr>\n",
              "    <tr>\n",
              "      <th>495</th>\n",
              "      <td>02/01/2003</td>\n",
              "      <td>2003</td>\n",
              "      <td>2</td>\n",
              "      <td>14027</td>\n",
              "      <td>PBI</td>\n",
              "      <td>33</td>\n",
              "      <td>13165</td>\n",
              "      <td>MAN</td>\n",
              "      <td>493</td>\n",
              "      <td>19869</td>\n",
              "      <td>BY</td>\n",
              "      <td>0</td>\n",
              "      <td>Passengers</td>\n",
              "      <td>0</td>\n",
              "      <td>1170</td>\n",
              "      <td>1170</td>\n",
              "    </tr>\n",
              "    <tr>\n",
              "      <th>496</th>\n",
              "      <td>04/01/2004</td>\n",
              "      <td>2004</td>\n",
              "      <td>4</td>\n",
              "      <td>13342</td>\n",
              "      <td>MKE</td>\n",
              "      <td>45</td>\n",
              "      <td>14312</td>\n",
              "      <td>PVR</td>\n",
              "      <td>148</td>\n",
              "      <td>20423</td>\n",
              "      <td>U5</td>\n",
              "      <td>1</td>\n",
              "      <td>Passengers</td>\n",
              "      <td>0</td>\n",
              "      <td>397</td>\n",
              "      <td>397</td>\n",
              "    </tr>\n",
              "    <tr>\n",
              "      <th>497</th>\n",
              "      <td>04/01/2009</td>\n",
              "      <td>2009</td>\n",
              "      <td>4</td>\n",
              "      <td>10721</td>\n",
              "      <td>BOS</td>\n",
              "      <td>13</td>\n",
              "      <td>16217</td>\n",
              "      <td>YUL</td>\n",
              "      <td>941</td>\n",
              "      <td>19531</td>\n",
              "      <td>AC</td>\n",
              "      <td>0</td>\n",
              "      <td>Passengers</td>\n",
              "      <td>0</td>\n",
              "      <td>157</td>\n",
              "      <td>157</td>\n",
              "    </tr>\n",
              "    <tr>\n",
              "      <th>498</th>\n",
              "      <td>05/01/2010</td>\n",
              "      <td>2010</td>\n",
              "      <td>5</td>\n",
              "      <td>13303</td>\n",
              "      <td>MIA</td>\n",
              "      <td>33</td>\n",
              "      <td>12180</td>\n",
              "      <td>HOG</td>\n",
              "      <td>219</td>\n",
              "      <td>20421</td>\n",
              "      <td>SLQ</td>\n",
              "      <td>1</td>\n",
              "      <td>Passengers</td>\n",
              "      <td>0</td>\n",
              "      <td>343</td>\n",
              "      <td>343</td>\n",
              "    </tr>\n",
              "    <tr>\n",
              "      <th>499</th>\n",
              "      <td>12/01/2005</td>\n",
              "      <td>2005</td>\n",
              "      <td>12</td>\n",
              "      <td>15016</td>\n",
              "      <td>STL</td>\n",
              "      <td>64</td>\n",
              "      <td>14312</td>\n",
              "      <td>PVR</td>\n",
              "      <td>148</td>\n",
              "      <td>20204</td>\n",
              "      <td>MG</td>\n",
              "      <td>1</td>\n",
              "      <td>Passengers</td>\n",
              "      <td>0</td>\n",
              "      <td>1852</td>\n",
              "      <td>1852</td>\n",
              "    </tr>\n",
              "  </tbody>\n",
              "</table>\n",
              "<p>500 rows × 16 columns</p>\n",
              "</div>\n",
              "      <button class=\"colab-df-convert\" onclick=\"convertToInteractive('df-2a6d6a48-32b4-476a-8b9b-024e333b4660')\"\n",
              "              title=\"Convert this dataframe to an interactive table.\"\n",
              "              style=\"display:none;\">\n",
              "        \n",
              "  <svg xmlns=\"http://www.w3.org/2000/svg\" height=\"24px\"viewBox=\"0 0 24 24\"\n",
              "       width=\"24px\">\n",
              "    <path d=\"M0 0h24v24H0V0z\" fill=\"none\"/>\n",
              "    <path d=\"M18.56 5.44l.94 2.06.94-2.06 2.06-.94-2.06-.94-.94-2.06-.94 2.06-2.06.94zm-11 1L8.5 8.5l.94-2.06 2.06-.94-2.06-.94L8.5 2.5l-.94 2.06-2.06.94zm10 10l.94 2.06.94-2.06 2.06-.94-2.06-.94-.94-2.06-.94 2.06-2.06.94z\"/><path d=\"M17.41 7.96l-1.37-1.37c-.4-.4-.92-.59-1.43-.59-.52 0-1.04.2-1.43.59L10.3 9.45l-7.72 7.72c-.78.78-.78 2.05 0 2.83L4 21.41c.39.39.9.59 1.41.59.51 0 1.02-.2 1.41-.59l7.78-7.78 2.81-2.81c.8-.78.8-2.07 0-2.86zM5.41 20L4 18.59l7.72-7.72 1.47 1.35L5.41 20z\"/>\n",
              "  </svg>\n",
              "      </button>\n",
              "      \n",
              "  <style>\n",
              "    .colab-df-container {\n",
              "      display:flex;\n",
              "      flex-wrap:wrap;\n",
              "      gap: 12px;\n",
              "    }\n",
              "\n",
              "    .colab-df-convert {\n",
              "      background-color: #E8F0FE;\n",
              "      border: none;\n",
              "      border-radius: 50%;\n",
              "      cursor: pointer;\n",
              "      display: none;\n",
              "      fill: #1967D2;\n",
              "      height: 32px;\n",
              "      padding: 0 0 0 0;\n",
              "      width: 32px;\n",
              "    }\n",
              "\n",
              "    .colab-df-convert:hover {\n",
              "      background-color: #E2EBFA;\n",
              "      box-shadow: 0px 1px 2px rgba(60, 64, 67, 0.3), 0px 1px 3px 1px rgba(60, 64, 67, 0.15);\n",
              "      fill: #174EA6;\n",
              "    }\n",
              "\n",
              "    [theme=dark] .colab-df-convert {\n",
              "      background-color: #3B4455;\n",
              "      fill: #D2E3FC;\n",
              "    }\n",
              "\n",
              "    [theme=dark] .colab-df-convert:hover {\n",
              "      background-color: #434B5C;\n",
              "      box-shadow: 0px 1px 3px 1px rgba(0, 0, 0, 0.15);\n",
              "      filter: drop-shadow(0px 1px 2px rgba(0, 0, 0, 0.3));\n",
              "      fill: #FFFFFF;\n",
              "    }\n",
              "  </style>\n",
              "\n",
              "      <script>\n",
              "        const buttonEl =\n",
              "          document.querySelector('#df-2a6d6a48-32b4-476a-8b9b-024e333b4660 button.colab-df-convert');\n",
              "        buttonEl.style.display =\n",
              "          google.colab.kernel.accessAllowed ? 'block' : 'none';\n",
              "\n",
              "        async function convertToInteractive(key) {\n",
              "          const element = document.querySelector('#df-2a6d6a48-32b4-476a-8b9b-024e333b4660');\n",
              "          const dataTable =\n",
              "            await google.colab.kernel.invokeFunction('convertToInteractive',\n",
              "                                                     [key], {});\n",
              "          if (!dataTable) return;\n",
              "\n",
              "          const docLinkHtml = 'Like what you see? Visit the ' +\n",
              "            '<a target=\"_blank\" href=https://colab.research.google.com/notebooks/data_table.ipynb>data table notebook</a>'\n",
              "            + ' to learn more about interactive tables.';\n",
              "          element.innerHTML = '';\n",
              "          dataTable['output_type'] = 'display_data';\n",
              "          await google.colab.output.renderOutput(dataTable, element);\n",
              "          const docLink = document.createElement('div');\n",
              "          docLink.innerHTML = docLinkHtml;\n",
              "          element.appendChild(docLink);\n",
              "        }\n",
              "      </script>\n",
              "    </div>\n",
              "  </div>\n",
              "  "
            ]
          },
          "metadata": {},
          "execution_count": 6
        }
      ]
    },
    {
      "cell_type": "code",
      "source": [
        "import matplotlib.pyplot as plt\n",
        "x1 = [1, 3, 4, 5, 6, 7, 5]\n",
        "y1 = [4, 7, 2, 4, 7, 1, 8]\n",
        "\n",
        "x2 = [2, 4, 6, 8, 10]\n",
        "y2 = [5, 6, 2, 6, 2]\n",
        "\n",
        "# Colors: https://matplotlib.org/api/colors_api.html\n",
        "\n",
        "plt.bar(x1, y1, label=\"blue Bar\", color='b')\n",
        "plt.bar(x2, y2, label=\"Green Bar\", color='r')\n",
        "plt.plot()\n",
        "\n",
        "plt.xlabel(\"Year\")\n",
        "plt.ylabel(\"Charter\")\n",
        "plt.title(\"Bar Chart representation\")\n",
        "plt.legend()\n",
        "plt.show()\n"
      ],
      "metadata": {
        "colab": {
          "base_uri": "https://localhost:8080/",
          "height": 295
        },
        "id": "qTiJUtQFb2Lg",
        "outputId": "3ffbf964-5fad-4853-e695-2674c8b91fd2"
      },
      "execution_count": null,
      "outputs": [
        {
          "output_type": "display_data",
          "data": {
            "text/plain": [
              "<Figure size 432x288 with 1 Axes>"
            ],
            "image/png": "[encoded data removed]"
          },
          "metadata": {
            "needs_background": "light"
          }
        }
      ]
    },
    {
      "cell_type": "code",
      "source": [
        "import matplotlib.pyplot as plt\n",
        "import numpy as np\n",
        "n = 4 + np.random.randn(10000)\n",
        "\n",
        "m = [m for m in range(len(n))]\n",
        "plt.bar(m, n)\n",
        "plt.title(\"Raw_Data\")\n",
        "plt.show()\n",
        "\n",
        "plt.hist(n, bins=10)\n",
        "plt.title(\"Histogram\")\n",
        "plt.show()\n",
        "\n",
        "plt.hist(n, cumulative=False, bins=10)\n",
        "plt.title(\"Cumulative Histogram\")\n",
        "plt.show()\n"
      ],
      "metadata": {
        "colab": {
          "base_uri": "https://localhost:8080/",
          "height": 809
        },
        "id": "oU39QtJjciHC",
        "outputId": "a3ac3316-07ff-41be-a952-6403f75c39e5"
      },
      "execution_count": null,
      "outputs": [
        {
          "output_type": "display_data",
          "data": {
            "text/plain": [
              "<Figure size 432x288 with 1 Axes>"
            ],
            "image/png": "[encoded data removed]"
          },
          "metadata": {
            "needs_background": "light"
          }
        },
        {
          "output_type": "display_data",
          "data": {
            "text/plain": [
              "<Figure size 432x288 with 1 Axes>"
            ],
            "image/png": "[encoded data removed]"
          },
          "metadata": {
            "needs_background": "light"
          }
        },
        {
          "output_type": "display_data",
          "data": {
            "text/plain": [
              "<Figure size 432x288 with 1 Axes>"
            ],
            "image/png": "[encoded data removed]"
          },
          "metadata": {
            "needs_background": "light"
          }
        }
      ]
    },
    {
      "cell_type": "code",
      "source": [
        "import matplotlib.pyplot as plt\n",
        "\n",
        "idxes = [ 1,  2,  3,  4,  5,  6]  \n",
        "arr1  = [23, 40, 28, 43,  8, 44] \n",
        "arr2  = [17, 30, 22, 14, 17, 17] \n",
        "arr3  = [15, 31, 18, 22, 18, 19]\n",
        "\n",
        "# Adding legend for stack plots is tricky.\n",
        "plt.plot([], [], color='b', label = ' 1')\n",
        "plt.plot([], [], color='r', label = ' 2')\n",
        "plt.plot([], [], color='g', label = ' 3')\n",
        "\n",
        "plt.stackplot(idxes, arr1, arr2, arr3, colors= ['b', 'g', 'r'])\n",
        "plt.title('Stack Plot Example')\n",
        "plt.legend()\n",
        "plt.show()\n"
      ],
      "metadata": {
        "colab": {
          "base_uri": "https://localhost:8080/",
          "height": 281
        },
        "id": "Z5VduMnNdWMP",
        "outputId": "b30cc3a2-65c8-4bc4-eabc-22bb7f780e8d"
      },
      "execution_count": null,
      "outputs": [
        {
          "output_type": "display_data",
          "data": {
            "text/plain": [
              "<Figure size 432x288 with 1 Axes>"
            ],
            "image/png": "[encoded data removed]"
          },
          "metadata": {
            "needs_background": "light"
          }
        }
      ]
    },
    {
      "cell_type": "code",
      "source": [
        "\n",
        "import matplotlib.pyplot as plt\n",
        "\n",
        "x1 = [2, 3, 4]\n",
        "y1 = [5, 5, 5]\n",
        "\n",
        "x2 = [1, 2.5, 3, 4, 5]\n",
        "y2 = [2, 3.5, 2, 3, 4]\n",
        "y3 = [6, 8, 6.5, 8, 7]\n",
        "\n",
        "# Markers: https://matplotlib.org/api/markers_api.html\n",
        "\n",
        "plt.scatter(x1, y1)\n",
        "plt.scatter(x2, y2, marker='v', color='r')\n",
        "plt.scatter(x2, y3, marker='^', color='m')\n",
        "plt.title('Scatter Plot Example')\n",
        "plt.show()"
      ],
      "metadata": {
        "colab": {
          "base_uri": "https://localhost:8080/",
          "height": 281
        },
        "id": "xUWUGSrlsHqV",
        "outputId": "288f148a-a085-49e7-ef10-721693b42c93"
      },
      "execution_count": null,
      "outputs": [
        {
          "output_type": "display_data",
          "data": {
            "text/plain": [
              "<Figure size 432x288 with 1 Axes>"
            ],
            "image/png": "[encoded data removed]"
          },
          "metadata": {
            "needs_background": "light"
          }
        }
      ]
    },
    {
      "cell_type": "code",
      "source": [],
      "metadata": {
        "id": "4bz3HZq6uWuq"
      },
      "execution_count": null,
      "outputs": []
    }
  ]
}